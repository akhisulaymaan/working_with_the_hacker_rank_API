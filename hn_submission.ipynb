{
 "cells": [
  {
   "cell_type": "code",
   "execution_count": 2,
   "metadata": {},
   "outputs": [
    {
     "name": "stdout",
     "output_type": "stream",
     "text": [
      "Status code: 200\n",
      "id: 42971059\tstatus: 200\n",
      "id: 42971446\tstatus: 200\n",
      "id: 42970240\tstatus: 200\n",
      "id: 42971761\tstatus: 200\n",
      "id: 42946215\tstatus: 200\n",
      "\n",
      "Title: The King in Yellow\n",
      "Discussion link: https://news.ycombinator.com/item?id=42946215\n",
      "Comments: 6\n"
     ]
    }
   ],
   "source": [
    "from operator import itemgetter\n",
    "\n",
    "import requests\n",
    "\n",
    "# Make an API call and check the response.\n",
    "url = \"https://hacker-news.firebaseio.com/v0/topstories.json\"\n",
    "r = requests.get(url)\n",
    "print(f\"Status code: {r.status_code}\")\n",
    "\n",
    "# Process information about each submission.\n",
    "submission_ids = r.json()\n",
    "submission_dicts = []\n",
    "for submission_id in submission_ids[:5]:\n",
    "    # Make a new API call for each submission.\n",
    "    url = f\"https://hacker-news.firebaseio.com/v0/item/{submission_id}.json\"\n",
    "    r = requests.get(url)\n",
    "    print(f\"id: {submission_id}\\tstatus: {r.status_code}\")\n",
    "    response_dict = r.json()\n",
    "\n",
    "# Build a dictionary for each article.\n",
    "submission_dict = {\n",
    "    'title': response_dict['title'],\n",
    "    'hn_link': f\"https://news.ycombinator.com/item?id={submission_id}\",\n",
    "    'comments': response_dict['descendants'],\n",
    "    }\n",
    "submission_dicts.append(submission_dict)\n",
    "submission_dicts = sorted(submission_dicts, key=itemgetter('comments'), reverse=True)\n",
    "for submission_dict in submission_dicts:    \n",
    "    print(f\"\\nTitle: {submission_dict['title']}\")\n",
    "    print(f\"Discussion link: {submission_dict['hn_link']}\")\n",
    "    print(f\"Comments: {submission_dict['comments']}\")"
   ]
  }
 ],
 "metadata": {
  "kernelspec": {
   "display_name": "Python 3",
   "language": "python",
   "name": "python3"
  },
  "language_info": {
   "codemirror_mode": {
    "name": "ipython",
    "version": 3
   },
   "file_extension": ".py",
   "mimetype": "text/x-python",
   "name": "python",
   "nbconvert_exporter": "python",
   "pygments_lexer": "ipython3",
   "version": "3.12.6"
  }
 },
 "nbformat": 4,
 "nbformat_minor": 2
}
